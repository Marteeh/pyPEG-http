{
 "cells": [
  {
   "cell_type": "code",
   "execution_count": 1,
   "metadata": {},
   "outputs": [],
   "source": [
    "from pypeg2 import *\n",
    "\n",
    "\n",
    "class Type(Keyword):\n",
    "    grammar = Enum( K(\"int\"), K(\"long\") )\n",
    "    \n",
    "class Parameter(object):\n",
    "    grammar = attr(\"typing\", Type), blank, name()\n",
    "    \n",
    "class Parameters(Namespace):\n",
    "    grammar = optional(csl(Parameter))\n",
    "    \n",
    "\n",
    "class Instruction(str):\n",
    "    def heading(self, parser):\n",
    "        return \"/* on level \" + str(parser.indention_level) + \" */\", endl\n",
    "\n",
    "    grammar = heading, word, \";\", endl\n",
    "    \n",
    "block = \"{\", endl, maybe_some(indent(Instruction)), \"}\", endl\n",
    "\n",
    "class Function(List):\n",
    "    grammar = attr(\"typing\", Type), blank, name(), \"(\", attr(\"parms\", Parameters), \")\", endl, block\n"
   ]
  },
  {
   "cell_type": "code",
   "execution_count": 2,
   "metadata": {},
   "outputs": [],
   "source": [
    "f = parse(\"int f(int a, long b) { do_this; do_that; }\", Function)"
   ]
  },
  {
   "cell_type": "code",
   "execution_count": 3,
   "metadata": {},
   "outputs": [
    {
     "data": {
      "text/plain": [
       "Type('int')"
      ]
     },
     "execution_count": 3,
     "metadata": {},
     "output_type": "execute_result"
    }
   ],
   "source": [
    "f.typing"
   ]
  },
  {
   "cell_type": "code",
   "execution_count": 18,
   "metadata": {},
   "outputs": [],
   "source": [
    "from pypeg2 import *\n",
    "\n",
    "#tools\n",
    "\n",
    "class Digit:\n",
    "    grammar = re.compile(r\"[0-9]\")\n",
    "\n",
    "class Alpha:\n",
    "    grammar = re.compile(r\"[a-zA-Z]\")\n",
    "    \n",
    "class HexDig:\n",
    "    grammar = [Digit, \"A\", \"B\", \"C\", \"D\", \"E\", \"F\"]\n",
    "    \n",
    "class SubDelimiter(Keyword):\n",
    "    grammar = Enum(K(\"!\"), K(\"$\"), K(\"&\"), K(\"'\"), K(\"(\"), K(\")\"), K(\"*\"), K(\"+\"), K(\",\"), K(\";\"), K(\"=\"))\n",
    "    \n",
    "class Unreserved:\n",
    "    grammar = [Alpha, Digit, \"-\", \".\", \"_\", \"~\"]\n",
    "    \n",
    "class PctEncoded:\n",
    "    grammar = \"%\", HexDig, HexDig\n",
    "    \n",
    "class PChar:\n",
    "    grammar = [Unreserved, PctEncoded, SubDelimiter, \":\", \"@\"]\n",
    "#endtools\n",
    "\n",
    "class Method(Keyword):\n",
    "    grammar = Enum(K(\"GET\"), K(\"HEAD\"), K(\"POST\"), K(\"PUT\"), K(\"DELETE\"), K(\"TRACE\"), K(\"CONNECT\"), K(\"OPTIONS\"))\n",
    "    \n",
    "    \n",
    "class DecOctet:\n",
    "    grammar = [Digit, (re.compile(r\"[1-9]\"), Digit), (\"1\", 2, Digit), (\"2\", re.compile(r\"[0-4]\"), Digit), (\"25\", re.compile(r\"[0-5]\"))]\n",
    "    \n",
    "class IPAddress:\n",
    "    grammar = attr(\"ip_field_1\", DecOctet), \".\", attr(\"ip_field_2\", DecOctet), \".\", attr(\"ip_field_3\", DecOctet), \".\", attr(\"ip_field_4\", DecOctet)\n",
    "    \n",
    "class RegName:\n",
    "    grammar = some([Unreserved, PctEncoded, SubDelimiter])\n",
    "    \n",
    "class UserInfo:\n",
    "    grammar = some([Unreserved, PctEncoded, SubDelimiter, \":\"])\n",
    "    \n",
    "class Host:\n",
    "    grammar = [attr(\"ip_address\", IPAddress), attr(\"regular_name\", RegName)]\n",
    "    \n",
    "class Port:\n",
    "    grammar = some(Digit)\n",
    "    \n",
    "class Segment:\n",
    "    grammar = maybe_some(PChar)\n",
    "    \n",
    "class Path(List):\n",
    "    grammar = some(\"/\", Segment)\n",
    "    \n",
    "class Authority:\n",
    "    grammar = optional(attr(\"userinfo\", UserInfo), \"@\"), attr(\"host\", Host), optional(\":\", attr(\"port\", Port))\n",
    "\n",
    "class HierPart:\n",
    "    grammar = [(\"//\", attr(\"authority\", Authority), optional(attr(\"path\", Path))), (\"/\", attr(\"path\", Path))]\n",
    "    \n",
    "class Scheme:\n",
    "    grammar = Alpha, maybe_some([Alpha, Digit, \"+\", \"-\", \".\"])\n",
    "    \n",
    "class URI(str):\n",
    "    grammar = optional(attr(\"scheme\", Scheme), \":\"), attr(\"hier-part\", HierPart)\n",
    "    #, optional((\"?\", attr(\"query\", Query))), optionnal((\"#\", attr(\"fragment\", Fragment)))\n",
    "\n",
    "class HTTPVersion:\n",
    "    grammar = \"HTTP/\", some(Digit), \".\", some(Digit)\n",
    "    \n",
    "class ReqLine:\n",
    "    grammar = attr(\"method\", Method), blank, attr(\"request_uri\", URI), blank, attr(\"http_version\", HTTPVersion), endl\n",
    "\n",
    "class MessageHeader:\n",
    "    grammar = attr(\"field_name\", word), \":\", blank, attr(\"field_value\", word) \n",
    "\n",
    "class Request(List):\n",
    "    grammar = attr(\"req_line\", ReqLine), endl, maybe_some(attr(\"message_header\", MessageHeader), endl)\n",
    "    "
   ]
  },
  {
   "cell_type": "code",
   "execution_count": 19,
   "metadata": {},
   "outputs": [
    {
     "ename": "SyntaxError",
     "evalue": "expecting one of [('//', Attribute(name='authority', thing=<class '__main__.Authority'>, subtype=None), (0, Attribute(name='path', thing=<class '__main__.Path'>, subtype=None))), ('/', Attribute(name='path', thing=<class '__main__.Path'>, subtype=None))] (<string>, line 1)",
     "output_type": "error",
     "traceback": [
      "Traceback \u001b[1;36m(most recent call last)\u001b[0m:\n",
      "  File \u001b[0;32m\"C:\\Users\\mtoutant\\AppData\\Local\\mambaforge\\lib\\site-packages\\IPython\\core\\interactiveshell.py\"\u001b[0m, line \u001b[0;32m3441\u001b[0m, in \u001b[0;35mrun_code\u001b[0m\n    exec(code_obj, self.user_global_ns, self.user_ns)\n",
      "  File \u001b[0;32m\"<ipython-input-19-4a2913043883>\"\u001b[0m, line \u001b[0;32m6\u001b[0m, in \u001b[0;35m<module>\u001b[0m\n    f = parse(to_parse, Request)\n",
      "  File \u001b[0;32m\"C:\\Users\\mtoutant\\AppData\\Local\\mambaforge\\lib\\site-packages\\pypeg2\\__init__.py\"\u001b[0m, line \u001b[0;32m667\u001b[0m, in \u001b[0;35mparse\u001b[0m\n    t, r = parser.parse(text, thing)\n",
      "\u001b[1;36m  File \u001b[1;32m\"C:\\Users\\mtoutant\\AppData\\Local\\mambaforge\\lib\\site-packages\\pypeg2\\__init__.py\"\u001b[1;36m, line \u001b[1;32m794\u001b[1;36m, in \u001b[1;35mparse\u001b[1;36m\u001b[0m\n\u001b[1;33m    raise r\u001b[0m\n",
      "\u001b[1;36m  File \u001b[1;32m\"<string>\"\u001b[1;36m, line \u001b[1;32m1\u001b[0m\n\u001b[1;33m    GET /hello.htm Host: tut\u001b[0m\n\u001b[1;37m        ^\u001b[0m\n\u001b[1;31mSyntaxError\u001b[0m\u001b[1;31m:\u001b[0m expecting one of [('//', Attribute(name='authority', thing=<class '__main__.Authority'>, subtype=None), (0, Attribute(name='path', thing=<class '__main__.Path'>, subtype=None))), ('/', Attribute(name='path', thing=<class '__main__.Path'>, subtype=None))]\n"
     ]
    }
   ],
   "source": [
    "to_parse = \\\n",
    "\"GET /hello.htm \\\n",
    "Host: tutorialspoint \\\n",
    "\"\n",
    "\n",
    "f = parse(to_parse, Request)"
   ]
  },
  {
   "cell_type": "code",
   "execution_count": 50,
   "metadata": {},
   "outputs": [
    {
     "data": {
      "text/plain": [
       "'tutorialspoint'"
      ]
     },
     "execution_count": 50,
     "metadata": {},
     "output_type": "execute_result"
    }
   ],
   "source": [
    "f.header.param"
   ]
  },
  {
   "cell_type": "code",
   "execution_count": 16,
   "metadata": {},
   "outputs": [],
   "source": [
    "class Method(Keyword):\n",
    "    grammar = Enum(K(\"GET\"), K(\"HEAD\"), K(\"POST\"), K(\"PUT\"), K(\"DELETE\"), K(\"TRACE\"), K(\"CONNECT\"), K(\"OPTIONS\"))\n",
    "\n",
    "class Digit:\n",
    "    grammar = re.compile(r\"[0-9]\")\n",
    "\n",
    "class SubDelimiter(Keyword):\n",
    "    grammar = Enum(K(\"!\"), K(\"$\"), K(\"&\"), K(\"'\"), K(\"(\"), K(\")\"), K(\"*\"), K(\"+\"), K(\",\"), K(\";\"), K(\"=\"))\n",
    "\n",
    "# Alpha | Digit \n",
    "#   <=> [a-zA-Z0-9_] \n",
    "#   <=> \\w\n",
    "class Unreserved:\n",
    "    grammar = re.compile(r\"\\w\"), \"-\", \".\", \"_\", \"~\"\n",
    "\n",
    "# Pour host, on ignore pct-encoded\n",
    "class RegularName:\n",
    "    grammar = maybe_some([Unreserved, SubDelimiter]) \n",
    "\n",
    "#Je decide de skip pct-encoded pour l'instant\n",
    "class PChar:\n",
    "    grammar = [Unreserved, SubDelimiter, \":\", \"@\"]\n",
    "\n",
    "#Start Authority\n",
    "class Fragment:\n",
    "    grammar = maybe_some([PChar, \"/\", \"?\"])\n",
    "\n",
    "class DecOctet:\n",
    "    grammar = [Digit, ([1-9], Digit), (\"1\", Digit, Digit), (\"2\", [0-4], Digit), (\"25\", [0-5])]\n",
    "\n",
    "# Not considering IPv6 adresses for the moment\n",
    "class IPAddr:\n",
    "    grammar = DecOctet, \".\", DecOctet, \".\", DecOctet, \".\", DecOctet\n",
    "\n",
    "#test syntax ?\n",
    "class Host:\n",
    "    grammar = attr(\"identifier\", [IPAddr, RegularName])\n",
    "\n",
    "class Port:\n",
    "    grammar = maybe_some(Digit)\n",
    "\n",
    "class Auth:\n",
    "    grammar = Host, maybe_some(\":\", Port)\n",
    "# end Authority\n",
    "\n",
    "#start Path\n",
    "class Segment:\n",
    "    grammar = maybe_some(PChar)\n",
    "class Path:\n",
    "    grammar = Segment, maybe_some(\"/\", Segment)\n",
    "#end Path\n",
    "\n",
    "class HierPart:\n",
    "    grammar = \"//\", Auth, Path\n",
    "\n",
    "\n",
    "#TODO: changer cette expreg (marche pas)\n",
    "class RequestURI:\n",
    "    grammar = re.compile(r\"^(([^:/?#]+):)?(//([^/?#]*))?([^?#]*)(\\?([^#]*))?(#(.*))?\")\n",
    "\n",
    "class HttpVer:\n",
    "    grammar = \"HTTP\", \"/\", some(Digit), \".\", some(Digit)\n",
    "\n",
    "class ReqLine:\n",
    "    grammar = attr(\"method\", Method), whitespace, attr(\"request_uri\", RequestURI), whitespace, attr(\"http_version\", HttpVer), endl\n",
    "\n",
    "#DEBUG\n",
    "class Header:\n",
    "    grammar = re.compile(r\"header\")\n",
    "\n",
    "class MessageBody:\n",
    "    grammar = re.compile(r\"body\")\n",
    "\n",
    "class Request:\n",
    "    grammar = attr(\"req_line\", ReqLine), maybe_some(attr(\"header\", Header), endl), endl, optional(attr(\"mess_body\", MessageBody))\n"
   ]
  },
  {
   "cell_type": "code",
   "execution_count": 17,
   "metadata": {},
   "outputs": [
    {
     "ename": "SyntaxError",
     "evalue": "expecting match on (?m)\\s+ (<string>)",
     "output_type": "error",
     "traceback": [
      "Traceback \u001b[1;36m(most recent call last)\u001b[0m:\n",
      "  File \u001b[0;32m\"C:\\Users\\marti\\anaconda3\\lib\\site-packages\\IPython\\core\\interactiveshell.py\"\u001b[0m, line \u001b[0;32m3343\u001b[0m, in \u001b[0;35mrun_code\u001b[0m\n    exec(code_obj, self.user_global_ns, self.user_ns)\n",
      "  File \u001b[0;32m\"<ipython-input-17-4e010a46d8d3>\"\u001b[0m, line \u001b[0;32m5\u001b[0m, in \u001b[0;35m<module>\u001b[0m\n    f = parse(request, ReqLine)\n",
      "  File \u001b[0;32m\"C:\\Users\\marti\\anaconda3\\lib\\site-packages\\pypeg2\\__init__.py\"\u001b[0m, line \u001b[0;32m667\u001b[0m, in \u001b[0;35mparse\u001b[0m\n    t, r = parser.parse(text, thing)\n",
      "\u001b[1;36m  File \u001b[1;32m\"C:\\Users\\marti\\anaconda3\\lib\\site-packages\\pypeg2\\__init__.py\"\u001b[1;36m, line \u001b[1;32m794\u001b[1;36m, in \u001b[1;35mparse\u001b[1;36m\u001b[0m\n\u001b[1;33m    raise r\u001b[0m\n",
      "\u001b[1;36m  File \u001b[1;32m\"<string>\"\u001b[1;36m, line \u001b[1;32munknown\u001b[0m\n\u001b[1;31mSyntaxError\u001b[0m\u001b[1;31m:\u001b[0m expecting match on (?m)\\s+\n"
     ]
    }
   ],
   "source": [
    "request = \"\"\"GET /hello.htm\n",
    "header\n",
    "mess_body \"\"\"\n",
    "\n",
    "f = parse(request, ReqLine)\n",
    "f.method"
   ]
  },
  {
   "cell_type": "code",
   "execution_count": null,
   "metadata": {},
   "outputs": [],
   "source": []
  },
  {
   "cell_type": "code",
   "execution_count": null,
   "metadata": {},
   "outputs": [],
   "source": []
  }
 ],
 "metadata": {
  "kernelspec": {
   "display_name": "Python 3",
   "language": "python",
   "name": "python3"
  },
  "language_info": {
   "codemirror_mode": {
    "name": "ipython",
    "version": 3
   },
   "file_extension": ".py",
   "mimetype": "text/x-python",
   "name": "python",
   "nbconvert_exporter": "python",
   "pygments_lexer": "ipython3",
   "version": "3.9.4"
  }
 },
 "nbformat": 4,
 "nbformat_minor": 4
}
