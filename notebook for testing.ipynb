{
 "cells": [
  {
   "cell_type": "code",
   "execution_count": 246,
   "metadata": {},
   "outputs": [],
   "source": [
    "from pypeg2 import *\n",
    "\n",
    "#tools\n",
    "\n",
    "class Digit(int):\n",
    "    grammar = re.compile(r\"[0-9]\")\n",
    "\n",
    "class Alpha(str):\n",
    "    grammar = re.compile(r\"[a-zA-Z]\")\n",
    "    \n",
    "class HexDig:\n",
    "    grammar = [Digit, \"A\", \"B\", \"C\", \"D\", \"E\", \"F\"]\n",
    "    \n",
    "class SubDelimiter(Keyword):\n",
    "    grammar = Enum(K(\"!\"), K(\"$\"), K(\"&\"), K(\"'\"), K(\"(\"), K(\")\"), K(\"*\"), K(\"+\"), K(\",\"), K(\";\"), K(\"=\"))\n",
    "    \n",
    "class Unreserved(str):\n",
    "    grammar = [Alpha, Digit, \"-\", \".\", \"_\", \"~\"]\n",
    "    \n",
    "class PctEncoded:\n",
    "    grammar = \"%\", HexDig, HexDig\n",
    "    \n",
    "class PChar(str):\n",
    "    grammar = [Unreserved, PctEncoded, SubDelimiter, \":\", \"@\"]\n",
    "#endtools\n",
    "\n",
    "class Method(Keyword):\n",
    "    grammar = Enum(K(\"GET\"), K(\"HEAD\"), K(\"POST\"), K(\"PUT\"), K(\"DELETE\"), K(\"TRACE\"), K(\"CONNECT\"), K(\"OPTIONS\"))\n",
    "    \n",
    "class DecOctet(str):\n",
    "    grammar = [Digit, (re.compile(r\"[1-9]\"), Digit), (\"1\", 2, Digit), (\"2\", re.compile(r\"[0-4]\"), Digit), (\"25\", re.compile(r\"[0-5]\"))]\n",
    "    \n",
    "class IPAddress:\n",
    "    grammar = attr(\"ip_field_1\", DecOctet), \".\", attr(\"ip_field_2\", DecOctet), \".\", attr(\"ip_field_3\", DecOctet), \".\", attr(\"ip_field_4\", DecOctet)\n",
    "\n",
    "# reg-name    = ( unreserved | pct-encoded | sub-delims )+\n",
    "class RegName(str):\n",
    "    grammar = re.compile(r\"([a-zA-Z0-9-._~]|%[A-F0-9])*\") \n",
    "    \n",
    "class UserInfo:\n",
    "    grammar = some([Unreserved, PctEncoded, SubDelimiter, \":\"])\n",
    "    \n",
    "class Port(str):\n",
    "    grammar = re.compile(r\"[0-9]+\")\n",
    "\n",
    "# obligé de passer par la regex car some considère l'espace\n",
    "# Segment = *pchar\n",
    "class Segment(str):\n",
    "    grammar = re.compile(r\"([a-zA-Z0-9-._~:@!$&'()*+,;=]|%[A-F0-9])*\") \n",
    "    \n",
    "class Path(List):\n",
    "    grammar = some(\"/\", Segment)\n",
    "    \n",
    "class Authority:\n",
    "    grammar = optional(attr(\"userinfo\", UserInfo), \"@\"), attr(\"host\", [IPAddress, RegName]), optional(\":\", attr(\"port\", Port))\n",
    "\n",
    "class HierPart:\n",
    "    grammar = [(\"//\", attr(\"authority\", Authority), optional(attr(\"path\", Path))), attr(\"path\", Path)]\n",
    "    \n",
    "class Scheme:\n",
    "    grammar = Alpha, maybe_some([Alpha, Digit, \"+\", \"-\", \".\"])\n",
    "    \n",
    "# obligé de passer par la regex car some considère l'espace\n",
    "class Query_Fragment(str):\n",
    "    grammar = re.compile(r\"([a-zA-Z0-9-._~/?]|%[A-F0-9])*\") \n",
    "    \n",
    "class URI:\n",
    "    grammar = optional(attr(\"scheme\", Scheme), \":\"), attr(\"hier_part\", HierPart), optional((\"?\", attr(\"query\", Query_Fragment))), optional((\"#\", attr(\"fragment\", Query_Fragment)))\n",
    "\n",
    "class HTTPVersion(str):\n",
    "    grammar = \"HTTP/\", Digit, \".\", Digit\n",
    "    \n",
    "class ReqLine:\n",
    "    grammar = attr(\"method\", Method), blank, attr(\"request_uri\", URI), blank, attr(\"http_version\", HTTPVersion), endl\n",
    "    \n",
    "#MESSAGE_HEADER\n",
    "# token = [^separators]+\n",
    "class Token(str):\n",
    "    grammar = re.compile(r\"[^()<>@,;:\\\\\\\"\\/[\\]?={}]+\")\n",
    "\n",
    "\"\"\"\n",
    "quoted-string   = <\"> *(qdtext) <\">\n",
    "qdtext          = [^\"]+\n",
    "\"\"\"\n",
    "class QuotedString:\n",
    "    grammar = \"\\\"\", re.compile(\"r[^\\\"]+\"), \"\\\"\"\n",
    "\n",
    "\"\"\"\n",
    "qvalue = ( \"0\" [ \".\" DIGIT+ ] )\n",
    "       | ( \"1\" [ \".\" \"0\"+ ]   )\n",
    "\"\"\"\n",
    "class QValue(str):\n",
    "    grammar = re.compile(r\"(0(\\.[0-9]+)?|1((.0)+)?)\")\n",
    "\n",
    "\"\"\"\n",
    "parameter       = attribute \"=\" value\n",
    "attribute       = token\n",
    "value           = token | quoted-string\n",
    "\"\"\"\n",
    "class Parameter(str):\n",
    "    grammar = attr(\"attribute\", Token), \"=\", attr(\"value\", [Token, QuotedString])\n",
    "    \n",
    "class Parameters(List):\n",
    "    grammar = some(Parameter)\n",
    "\n",
    "class Accept(str):\n",
    "    grammar = \"Accept\", \":\", attr(\"type\", Token), \"/\", attr(\"subtype\", Token), optional(Parameters), attr(\"q_value\", optional(\";q=\", QValue))\n",
    "\n",
    "# not used anymore\n",
    "class Charset(str):\n",
    "    grammar = re.compile(r\"\\w+(-\\w+)*\"), attr(\"q_value\", optional(\";q=\", QValue))\n",
    "# RFC 2978\n",
    "# Je garde que les 3 plus utilisés\n",
    "class AcceptCharset(List):\n",
    "    grammar = \"Accept-Charset\", \":\", csl(Charset)\n",
    "    \n",
    "class LanguageRange(str):\n",
    "    grammar = re.compile(r\"\\w{1,8}(-\\w{1,8})?\"), attr(\"q_value\", optional(\";q=\", QValue))\n",
    "    \n",
    "class AcceptLanguage(List):\n",
    "    grammar = \"Accept-Language\", \":\", csl(LanguageRange)\n",
    "\n",
    "class Authorization():\n",
    "    grammar = \"Authorization\", \":\", attr(\"credentials\", word)\n",
    "    \n",
    "class Expect():\n",
    "    grammar = \"Expect\", \":\", attr(\"value\", \"100-Continue\")\n",
    "    \n",
    "# basic regex for email\n",
    "class From(str):\n",
    "    grammar = \"From\", \":\", attr(\"mailbox\", re.compile(r\"^[^@\\s]+@[^@\\s\\.]+\\.[^@\\.\\s]+$\"))\n",
    "\n",
    "class Host(str):\n",
    "    grammar = \"Host\", \":\", attr(\"host\", [IPAddress, RegName]), attr(\"port\", optional(\":\", Port))\n",
    "    \n",
    "class IfMatch:\n",
    "    grammar = \"If-Match\", \":\", attr(\"credentials\", word)\n",
    "    \n",
    "class ProxyAuthorization():\n",
    "    grammar = \"Proxy-Authorization\", \":\", attr(\"crendentials\", word)\n",
    "    \n",
    "class RequestHeader(List):\n",
    "    grammar = some([Accept, AcceptCharset, AcceptLanguage, Authorization, Expect, From, Host, IfMatch, ProxyAuthorization])\n",
    "\n",
    "#END MESSAGE_HEADER\n",
    "\n",
    "##### REQ\n",
    "class Request:\n",
    "    grammar = attr(\"req_line\", ReqLine), endl, attr(\"request_header\", optional(RequestHeader)), endl\n",
    "#### END REQ"
   ]
  },
  {
   "cell_type": "code",
   "execution_count": 249,
   "metadata": {},
   "outputs": [
    {
     "data": {
      "text/plain": [
       "<__main__.Expect at 0x1a3e3096a00>"
      ]
     },
     "execution_count": 249,
     "metadata": {},
     "output_type": "execute_result"
    }
   ],
   "source": [
    "to_parse = \"\"\"GET /hello/martin_le.html?boss#tinmar HTTP/1.1 \n",
    "Host : 192.168.1.1:443\n",
    "Accept-Charset: UTF-8 ;q=0.9, ISO-8859-5\n",
    "Accept-Language: en-us, fr-en ;q=0.2\n",
    "Expect: 100-Continue\n",
    "\"\"\"\n",
    "\n",
    "\n",
    "f = parse(to_parse, Request)\n",
    "f.request_header[3]"
   ]
  },
  {
   "cell_type": "code",
   "execution_count": 248,
   "metadata": {},
   "outputs": [
    {
     "data": {
      "text/plain": [
       "<__main__.Expect at 0x1a3e41a50a0>"
      ]
     },
     "execution_count": 248,
     "metadata": {},
     "output_type": "execute_result"
    }
   ],
   "source": []
  },
  {
   "cell_type": "code",
   "execution_count": null,
   "metadata": {},
   "outputs": [],
   "source": []
  },
  {
   "cell_type": "code",
   "execution_count": null,
   "metadata": {},
   "outputs": [],
   "source": []
  },
  {
   "cell_type": "code",
   "execution_count": 180,
   "metadata": {},
   "outputs": [
    {
     "ename": "SyntaxError",
     "evalue": "invalid syntax (<ipython-input-180-8033c460cb90>, line 1)",
     "output_type": "error",
     "traceback": [
      "\u001b[1;36m  File \u001b[1;32m\"<ipython-input-180-8033c460cb90>\"\u001b[1;36m, line \u001b[1;32m1\u001b[0m\n\u001b[1;33m    GET /hello.htm HTTP/1.1\u001b[0m\n\u001b[1;37m                   ^\u001b[0m\n\u001b[1;31mSyntaxError\u001b[0m\u001b[1;31m:\u001b[0m invalid syntax\n"
     ]
    }
   ],
   "source": [
    "GET /hello.htm HTTP/1.1\n",
    "User-Agent: Mozilla/4.0 (compatible; MSIE5.01; Windows NT)\n",
    "Host: www.tutorialspoint.com\n",
    "Accept-Language: en-us\n",
    "Accept-Encoding: gzip, deflate\n",
    "Connection: Keep-Alive"
   ]
  },
  {
   "cell_type": "code",
   "execution_count": null,
   "metadata": {},
   "outputs": [],
   "source": []
  }
 ],
 "metadata": {
  "kernelspec": {
   "display_name": "Python 3",
   "language": "python",
   "name": "python3"
  },
  "language_info": {
   "codemirror_mode": {
    "name": "ipython",
    "version": 3
   },
   "file_extension": ".py",
   "mimetype": "text/x-python",
   "name": "python",
   "nbconvert_exporter": "python",
   "pygments_lexer": "ipython3",
   "version": "3.9.4"
  }
 },
 "nbformat": 4,
 "nbformat_minor": 4
}
