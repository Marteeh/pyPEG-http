{
 "cells": [
  {
   "cell_type": "code",
   "execution_count": 2,
   "metadata": {},
   "outputs": [],
   "source": [
    "from pypeg2 import *\n",
    "\n",
    "\n",
    "class Type(Keyword):\n",
    "    grammar = Enum( K(\"int\"), K(\"long\") )\n",
    "    \n",
    "class Parameter(object):\n",
    "    grammar = attr(\"typing\", Type), blank, name()\n",
    "    \n",
    "class Parameters(Namespace):\n",
    "    grammar = optional(csl(Parameter))\n",
    "    \n",
    "\n",
    "class Instruction(str):\n",
    "    def heading(self, parser):\n",
    "        return \"/* on level \" + str(parser.indention_level) + \" */\", endl\n",
    "\n",
    "    grammar = heading, word, \";\", endl\n",
    "    \n",
    "block = \"{\", endl, maybe_some(indent(Instruction)), \"}\", endl\n",
    "\n",
    "class Function(List):\n",
    "    grammar = attr(\"typing\", Type), blank, name(), \"(\", attr(\"parms\", Parameters), \")\", endl, block\n"
   ]
  },
  {
   "cell_type": "code",
   "execution_count": 3,
   "metadata": {},
   "outputs": [],
   "source": [
    "f = parse(\"int f(int a, long b) { do_this; do_that; }\", Function)"
   ]
  },
  {
   "cell_type": "code",
   "execution_count": 5,
   "metadata": {},
   "outputs": [
    {
     "data": {
      "text/plain": [
       "Type('int')"
      ]
     },
     "execution_count": 5,
     "metadata": {},
     "output_type": "execute_result"
    }
   ],
   "source": [
    "f.typing"
   ]
  },
  {
   "cell_type": "code",
   "execution_count": 29,
   "metadata": {},
   "outputs": [],
   "source": [
    "from pypeg2 import *\n",
    "\n",
    "class Method(Keyword):\n",
    "    grammar = Enum(K(\"GET\"), K(\"HEAD\"), K(\"POST\"), K(\"PUT\"), K(\"DELETE\"), K(\"TRACE\"), K(\"CONNECT\"), K(\"OPTIONS\"))\n",
    "\n",
    "class RequestURI(str):\n",
    "    grammar = re.compile(r\"\\/\\w+\\.\\w+\")\n",
    "\n",
    "class ReqLine:\n",
    "    grammar = attr(\"method\", Method), blank, attr(\"request_uri\", RequestURI)\n"
   ]
  },
  {
   "cell_type": "code",
   "execution_count": 30,
   "metadata": {},
   "outputs": [],
   "source": [
    "f = parse(\"GET /hello.htm\", ReqLine)"
   ]
  },
  {
   "cell_type": "code",
   "execution_count": 31,
   "metadata": {},
   "outputs": [
    {
     "data": {
      "text/plain": [
       "'/hello.htm'"
      ]
     },
     "execution_count": 31,
     "metadata": {},
     "output_type": "execute_result"
    }
   ],
   "source": [
    "f.method"
   ]
  },
  {
   "cell_type": "code",
   "execution_count": null,
   "metadata": {},
   "outputs": [],
   "source": []
  }
 ],
 "metadata": {
  "kernelspec": {
   "display_name": "Python 3",
   "language": "python",
   "name": "python3"
  },
  "language_info": {
   "codemirror_mode": {
    "name": "ipython",
    "version": 3
   },
   "file_extension": ".py",
   "mimetype": "text/x-python",
   "name": "python",
   "nbconvert_exporter": "python",
   "pygments_lexer": "ipython3",
   "version": "3.8.3"
  }
 },
 "nbformat": 4,
 "nbformat_minor": 4
}
